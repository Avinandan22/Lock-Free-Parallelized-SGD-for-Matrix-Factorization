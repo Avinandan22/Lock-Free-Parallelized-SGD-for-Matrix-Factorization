{
 "cells": [
  {
   "cell_type": "markdown",
   "metadata": {},
   "source": [
    "# MovieLens 100K dataset, 100K entries in a 943x1682 dimensional matrix"
   ]
  },
  {
   "cell_type": "code",
   "execution_count": 1,
   "metadata": {},
   "outputs": [],
   "source": [
    "import scipy.sparse\n",
    "import numpy as np\n",
    "from multiprocessing.sharedctypes import Array\n",
    "from ctypes import c_double\n",
    "from scipy import stats"
   ]
  },
  {
   "cell_type": "markdown",
   "metadata": {},
   "source": [
    "# Function to permute the matrix according to proposed algorithm"
   ]
  },
  {
   "cell_type": "code",
   "execution_count": 5,
   "metadata": {},
   "outputs": [],
   "source": [
    "def rearrange(full,ratings):\n",
    "    n = full.shape[0]\n",
    "    m = full.shape[1]\n",
    "    rowsum = full.sum(1)\n",
    "    colsum = full.sum(0)\n",
    "    roword = np.argsort(rowsum)\n",
    "    colord = np.argsort(colsum)\n",
    "    full = full[roword]\n",
    "    full = full[:,colord]\n",
    "    full = full.reshape(n,m)\n",
    "    ratings = ratings[roword]\n",
    "    ratings = ratings[:,colord]\n",
    "    ratings = ratings.reshape(n,m)\n",
    "    return full,ratings"
   ]
  },
  {
   "cell_type": "markdown",
   "metadata": {},
   "source": [
    "# Data Preprocessing"
   ]
  },
  {
   "cell_type": "code",
   "execution_count": 2,
   "metadata": {},
   "outputs": [],
   "source": [
    "def ranking_matrix(N, M, filename, sep=\"\t\"):\n",
    "    \n",
    "    R = np.zeros((N, M))\n",
    "    I = np.zeros((N, M))\n",
    "    f = open(filename,\"r\")\n",
    "    for line in f:\n",
    "        if line[0] == '%':\n",
    "            # this is a comment\n",
    "            continue\n",
    "        (user, movie, ranking,_) = line.split(sep)\n",
    "        R[np.int(user) - 1, np.int(movie) - 1] = np.int(ranking)\n",
    "        I[np.int(user) - 1, np.int(movie) - 1] = 1.0\n",
    "    return R, I"
   ]
  },
  {
   "cell_type": "code",
   "execution_count": 3,
   "metadata": {},
   "outputs": [],
   "source": [
    "r = 10\n",
    "n = 943\n",
    "m = 1682"
   ]
  },
  {
   "cell_type": "code",
   "execution_count": 4,
   "metadata": {},
   "outputs": [],
   "source": [
    "R, I = ranking_matrix(n, m, \"u.data\")"
   ]
  },
  {
   "cell_type": "markdown",
   "metadata": {},
   "source": [
    "# Preparing the permutations of samples to Hogwild"
   ]
  },
  {
   "cell_type": "code",
   "execution_count": 8,
   "metadata": {},
   "outputs": [],
   "source": [
    "reord,X = rearrange(I,R)"
   ]
  },
  {
   "cell_type": "code",
   "execution_count": 9,
   "metadata": {},
   "outputs": [
    {
     "data": {
      "text/plain": [
       "100000"
      ]
     },
     "execution_count": 9,
     "metadata": {},
     "output_type": "execute_result"
    }
   ],
   "source": [
    "elements = np.count_nonzero(reord)\n",
    "elements"
   ]
  },
  {
   "cell_type": "markdown",
   "metadata": {},
   "source": [
    "# Statistics of no. of ratings"
   ]
  },
  {
   "cell_type": "code",
   "execution_count": 33,
   "metadata": {},
   "outputs": [
    {
     "data": {
      "text/plain": [
       "Text(0.5, 1.0, 'No.of ratings vs Movies')"
      ]
     },
     "execution_count": 33,
     "metadata": {},
     "output_type": "execute_result"
    },
    {
     "data": {
      "image/png": "[encoded data removed]",
      "text/plain": [
       "<Figure size 432x288 with 1 Axes>"
      ]
     },
     "metadata": {
      "needs_background": "light"
     },
     "output_type": "display_data"
    }
   ],
   "source": [
    "plt.plot(np.arange(m),reord.sum(0))\n",
    "plt.xlabel(\"Movie ID\")\n",
    "plt.ylabel(\"No. of ratings\")\n",
    "plt.title(\"No.of ratings vs Movies\")"
   ]
  },
  {
   "cell_type": "code",
   "execution_count": 34,
   "metadata": {},
   "outputs": [
    {
     "data": {
      "text/plain": [
       "Text(0.5, 1.0, 'No.of ratings vs Users')"
      ]
     },
     "execution_count": 34,
     "metadata": {},
     "output_type": "execute_result"
    },
    {
     "data": {
      "image/png": "[encoded data removed]",
      "text/plain": [
       "<Figure size 432x288 with 1 Axes>"
      ]
     },
     "metadata": {
      "needs_background": "light"
     },
     "output_type": "display_data"
    }
   ],
   "source": [
    "plt.plot(np.arange(n),reord.sum(1))\n",
    "plt.xlabel(\"User ID\")\n",
    "plt.ylabel(\"No. of ratings\")\n",
    "plt.title(\"No.of ratings vs Users\")"
   ]
  },
  {
   "cell_type": "markdown",
   "metadata": {},
   "source": [
    "# From the above 2 plots we can see that a majority of the ratings come from few users and are about few movies"
   ]
  },
  {
   "cell_type": "markdown",
   "metadata": {},
   "source": [
    "# Functions to build strata as in SSGD "
   ]
  },
  {
   "cell_type": "code",
   "execution_count": 6,
   "metadata": {},
   "outputs": [],
   "source": [
    "def reduce_indices(O,numcores,numdim,px,py):\n",
    "    maxj = O.shape[0] - 1\n",
    "    M = (O[:,0] - O[:,1]) % numdim\n",
    "    M = M.reshape(maxj + 1,1)\n",
    "    M = np.concatenate((O,M),axis = 1)\n",
    "    M = M[np.argsort(M[:,2])]\n",
    "    A = []\n",
    "    j = 0\n",
    "    countdim = 0\n",
    "    while(countdim < numdim):\n",
    "        countcores = 0\n",
    "        if(j == maxj + 1):\n",
    "            return A\n",
    "        else:\n",
    "            while(j <= maxj and M[j][2] == countdim):\n",
    "                A.append((M[j][0]+px,M[j][1]+py))\n",
    "                j = j + 1\n",
    "                countcores = countcores + 1\n",
    "            while(countcores % numcores != 0):\n",
    "                A.append((-1,-1))\n",
    "                countcores = countcores + 1\n",
    "        countdim = countdim + 1\n",
    "    return A"
   ]
  },
  {
   "cell_type": "markdown",
   "metadata": {},
   "source": [
    "# Hogwild SGD Function"
   ]
  },
  {
   "cell_type": "code",
   "execution_count": 7,
   "metadata": {},
   "outputs": [],
   "source": [
    "learning_rate = 0.001\n",
    "def gradient_step(index):\n",
    "    i,j = index\n",
    "    global R\n",
    "    global C\n",
    "    global X\n",
    "    if(i != -1 and j != -1):\n",
    "        \n",
    "        err = X[i,j] - np.dot(R[i],C[j])\n",
    "        grad1 = -2 * err * C[j]\n",
    "        grad2 = -2 * err * R[i]\n",
    "\n",
    "\n",
    "        for index in np.where(abs(grad1) > .0001)[0]:\n",
    "          R_shared[i*r + index] -= learning_rate*grad1[index]\n",
    "\n",
    "        for index in np.where(abs(grad2) > .0001)[0]:\n",
    "          C_shared[j*r + index] -= learning_rate*grad2[index]"
   ]
  },
  {
   "cell_type": "markdown",
   "metadata": {},
   "source": [
    "# Normal Hogwild "
   ]
  },
  {
   "cell_type": "code",
   "execution_count": 10,
   "metadata": {},
   "outputs": [],
   "source": [
    "t = 8\n",
    "pad = 0\n",
    "px = n - pad\n",
    "py = m - pad\n",
    "if(px == n):\n",
    "    final = []\n",
    "else:\n",
    "    s = reord[px:,py:].nonzero()[0].shape[0]\n",
    "    l = reord[px:,py:].nonzero()[0] \n",
    "    d = reord[px:,py:].nonzero()[1] \n",
    "    l = l.reshape(s,1)\n",
    "    d = d.reshape(s,1)\n",
    "    z = np.concatenate((l,d),axis = 1)\n",
    "    final = reduce_indices(z,t,n-px,px,py)"
   ]
  },
  {
   "cell_type": "code",
   "execution_count": 11,
   "metadata": {},
   "outputs": [
    {
     "name": "stdout",
     "output_type": "stream",
     "text": [
      "0.0132\n",
      "0.00737\n",
      "2\n",
      "45.58813651217358\n"
     ]
    }
   ],
   "source": [
    "if(px == n):\n",
    "    b1 = 0\n",
    "else:\n",
    "    b1 = reord[px:,:py].sum(1).max()\n",
    "if(px == n):\n",
    "    b2 = 0\n",
    "else:\n",
    "    b2 = reord[:px,py:].sum(0).max()\n",
    "omega = 2\n",
    "deltar = max(reord[:px,:m].sum(1).max(),b1) / np.count_nonzero(reord)\n",
    "deltac = max(reord[:n,:py].sum(0).max(),b2) / np.count_nonzero(reord)\n",
    "rho = deltar + deltac\n",
    "delta = max(deltar,deltac)\n",
    "print(rho)\n",
    "print(delta)\n",
    "print(omega)\n",
    "const = (1 + 6 * rho * t + 4 * t * t * np.sqrt(delta) * omega)\n",
    "print(const)"
   ]
  },
  {
   "cell_type": "code",
   "execution_count": 12,
   "metadata": {},
   "outputs": [],
   "source": [
    "row = reord[:px,:py].nonzero()[0]\n",
    "col = reord[:px,:py].nonzero()[1]\n",
    "ind1 = (np.tile((row,col),1)).T\n",
    "row = reord[:px,py:].nonzero()[0]\n",
    "col = reord[:px,py:].nonzero()[1] + py\n",
    "ind2 = (np.tile((row,col),1)).T\n",
    "row = reord[px:,:py].nonzero()[0] + px\n",
    "col = reord[px:,:py].nonzero()[1]\n",
    "ind3 = (np.tile((row,col),1)).T\n",
    "total_order = np.concatenate((ind1,ind2,ind3)).T\n",
    "total = list(zip((total_order)[0],(total_order)[1]))\n",
    "final_order = final + total"
   ]
  },
  {
   "cell_type": "code",
   "execution_count": 13,
   "metadata": {},
   "outputs": [
    {
     "data": {
      "text/plain": [
       "100000"
      ]
     },
     "execution_count": 13,
     "metadata": {},
     "output_type": "execute_result"
    }
   ],
   "source": [
    "len(final_order)"
   ]
  },
  {
   "cell_type": "code",
   "execution_count": 14,
   "metadata": {},
   "outputs": [
    {
     "name": "stdout",
     "output_type": "stream",
     "text": [
      "Iter :  0  Loss :  1.9827301691132668\n",
      "Iter :  2  Loss :  1.0002131853428202\n",
      "Iter :  4  Loss :  0.9189503190379797\n",
      "Iter :  6  Loss :  0.8878117073875784\n",
      "Iter :  8  Loss :  0.8690152305891607\n",
      "Iter :  10  Loss :  0.8548135173176367\n",
      "Iter :  12  Loss :  0.8437781577423648\n",
      "Iter :  14  Loss :  0.8347842899340677\n",
      "Iter :  16  Loss :  0.8272236051146543\n",
      "Iter :  18  Loss :  0.8205119435547618\n",
      "Iter :  20  Loss :  0.8151593583167347\n",
      "Iter :  22  Loss :  0.809555929515569\n",
      "Iter :  24  Loss :  0.8048233605702381\n",
      "Iter :  26  Loss :  0.8005151510379294\n",
      "Iter :  28  Loss :  0.7968019492000473\n",
      "Iter :  30  Loss :  0.7933012513047845\n",
      "Iter :  32  Loss :  0.7896376181227533\n",
      "Iter :  34  Loss :  0.7869297335798008\n",
      "Iter :  36  Loss :  0.7846924734883273\n",
      "Iter :  38  Loss :  0.7812927876968495\n",
      "Iter :  40  Loss :  0.7789082583517224\n",
      "Iter :  42  Loss :  0.7767152694806544\n",
      "Iter :  44  Loss :  0.7748216882691296\n",
      "Iter :  46  Loss :  0.7731750801818391\n",
      "Iter :  48  Loss :  0.7710344972125859\n",
      "Iter :  50  Loss :  0.7697084672679771\n",
      "Iter :  52  Loss :  0.7678578857894252\n",
      "Iter :  54  Loss :  0.7664151285006761\n",
      "Iter :  56  Loss :  0.765355685741905\n",
      "Iter :  58  Loss :  0.7639856467432014\n",
      "Iter :  60  Loss :  0.7624939188213865\n",
      "Total Time taken :  382.78456950187683\n",
      "Total updates per iter :  100000\n"
     ]
    }
   ],
   "source": [
    "from multiprocessing import Pool\n",
    "import time\n",
    "learning_rate = 0.4 / const\n",
    "np.random.seed(0)\n",
    "R_shared = Array(c_double, (np.random.normal(size=(n,r))).flat,lock=False)\n",
    "R = np.frombuffer(R_shared)\n",
    "R = R.reshape((n,r))\n",
    "np.random.seed(1)\n",
    "C_shared = Array(c_double, (np.random.normal(size=(m,r))).flat,lock=False)\n",
    "C = np.frombuffer(C_shared)\n",
    "C = C.reshape((m,r))\n",
    "#R,C and X are kept global to reduce transfer costs\n",
    "loss_iter_1 = []\n",
    "iteration = 61\n",
    "total_time = 0\n",
    "time_iter_1 = []\n",
    "p = Pool(t) \n",
    "for j in range(iteration): \n",
    "    for i in range(int(len(final_order) / t) + 1):\n",
    "        sta = time.time()\n",
    "        p.map(gradient_step, final_order[i*t:(i+1)*t])\n",
    "        fin = time.time()\n",
    "        total_time = total_time + fin - sta\n",
    "    if(j % 2 == 0):\n",
    "        loss = np.sqrt(np.sum(np.square(X - np.multiply(reord, np.matmul(R,C.T)))) / elements)\n",
    "        print('Iter : ',j,' Loss : ', loss)\n",
    "        loss_iter_1.append(loss)\n",
    "        time_iter_1.append(total_time)\n",
    "p.terminate()\n",
    "print(\"Total Time taken : \",total_time)\n",
    "\n",
    "total_iter_1 = len(final_order)\n",
    "print(\"Total updates per iter : \",total_iter_1)"
   ]
  },
  {
   "cell_type": "markdown",
   "metadata": {},
   "source": [
    "# Proposed Method"
   ]
  },
  {
   "cell_type": "code",
   "execution_count": 15,
   "metadata": {},
   "outputs": [],
   "source": [
    "t = 8\n",
    "pad = 400\n",
    "px = n - pad\n",
    "py = m - pad\n",
    "if(px == n):\n",
    "    final = []\n",
    "else:\n",
    "    s = reord[px:,py:].nonzero()[0].shape[0]\n",
    "    l = reord[px:,py:].nonzero()[0] \n",
    "    d = reord[px:,py:].nonzero()[1] \n",
    "    l = l.reshape(s,1)\n",
    "    d = d.reshape(s,1)\n",
    "    z = np.concatenate((l,d),axis = 1)\n",
    "    final = reduce_indices(z,t,n-px,px,py)"
   ]
  },
  {
   "cell_type": "code",
   "execution_count": 16,
   "metadata": {},
   "outputs": [
    {
     "name": "stdout",
     "output_type": "stream",
     "text": [
      "0.00794\n",
      "0.00517\n",
      "2\n",
      "38.19530856908298\n"
     ]
    }
   ],
   "source": [
    "if(px == n):\n",
    "    b1 = 0\n",
    "else:\n",
    "    b1 = reord[px:,:py].sum(1).max()\n",
    "if(px == n):\n",
    "    b2 = 0\n",
    "else:\n",
    "    b2 = reord[:px,py:].sum(0).max()\n",
    "omega = 2\n",
    "deltar = max(reord[:px,:m].sum(1).max(),b1) / np.count_nonzero(reord)\n",
    "deltac = max(reord[:n,:py].sum(0).max(),b2) / np.count_nonzero(reord)\n",
    "rho = deltar + deltac\n",
    "delta = max(deltar,deltac)\n",
    "print(rho)\n",
    "print(delta)\n",
    "print(omega)\n",
    "const = (1 + 6 * rho * t + 4 * t * t * np.sqrt(delta) * omega)\n",
    "print(const)"
   ]
  },
  {
   "cell_type": "code",
   "execution_count": 17,
   "metadata": {},
   "outputs": [],
   "source": [
    "row = reord[:px,:py].nonzero()[0]\n",
    "col = reord[:px,:py].nonzero()[1]\n",
    "ind1 = (np.tile((row,col),1)).T\n",
    "row = reord[:px,py:].nonzero()[0]\n",
    "col = reord[:px,py:].nonzero()[1] + py\n",
    "ind2 = (np.tile((row,col),1)).T\n",
    "row = reord[px:,:py].nonzero()[0] + px\n",
    "col = reord[px:,:py].nonzero()[1]\n",
    "ind3 = (np.tile((row,col),1)).T\n",
    "total_order = np.concatenate((ind1,ind2,ind3)).T\n",
    "total = list(zip((total_order)[0],(total_order)[1]))\n",
    "final_order = final + total"
   ]
  },
  {
   "cell_type": "code",
   "execution_count": 18,
   "metadata": {},
   "outputs": [
    {
     "data": {
      "text/plain": [
       "101428"
      ]
     },
     "execution_count": 18,
     "metadata": {},
     "output_type": "execute_result"
    }
   ],
   "source": [
    "len(final_order)"
   ]
  },
  {
   "cell_type": "code",
   "execution_count": 19,
   "metadata": {},
   "outputs": [
    {
     "name": "stdout",
     "output_type": "stream",
     "text": [
      "Iter :  0  Loss :  2.5904524723422497\n",
      "Iter :  2  Loss :  1.0314960123910282\n",
      "Iter :  4  Loss :  0.9264789913650344\n",
      "Iter :  6  Loss :  0.8920429669521537\n",
      "Iter :  8  Loss :  0.8703959797166751\n",
      "Iter :  10  Loss :  0.8538017172403428\n",
      "Iter :  12  Loss :  0.8411538389282496\n",
      "Iter :  14  Loss :  0.8300126946591249\n",
      "Iter :  16  Loss :  0.8207032651513234\n",
      "Iter :  18  Loss :  0.8132331591423998\n",
      "Iter :  20  Loss :  0.8063981909493876\n",
      "Iter :  22  Loss :  0.8007972347027495\n",
      "Iter :  24  Loss :  0.7957215183259955\n",
      "Iter :  26  Loss :  0.7913402897557823\n",
      "Iter :  28  Loss :  0.7873922346887577\n",
      "Iter :  30  Loss :  0.7839022530991174\n",
      "Iter :  32  Loss :  0.7807566997250023\n",
      "Iter :  34  Loss :  0.7781055052826014\n",
      "Iter :  36  Loss :  0.7752995898616883\n",
      "Iter :  38  Loss :  0.7729699427038345\n",
      "Iter :  40  Loss :  0.7711230520752425\n",
      "Iter :  42  Loss :  0.7688532523665972\n",
      "Iter :  44  Loss :  0.7671689110477443\n",
      "Iter :  46  Loss :  0.7656022492186992\n",
      "Iter :  48  Loss :  0.7641737486263998\n",
      "Iter :  50  Loss :  0.7627476618491371\n",
      "Iter :  52  Loss :  0.7613181025941175\n",
      "Iter :  54  Loss :  0.7602245056166994\n",
      "Iter :  56  Loss :  0.7593024285411257\n",
      "Iter :  58  Loss :  0.7582905268295974\n",
      "Iter :  60  Loss :  0.7572916343144969\n",
      "Total Time taken :  383.2635884284973\n",
      "Total updates per iter :  101428\n"
     ]
    }
   ],
   "source": [
    "from multiprocessing import Pool\n",
    "import time\n",
    "np.random.seed(0)\n",
    "learning_rate = .4 / const\n",
    "R_shared = Array(c_double, (np.random.normal(size=(n,r))).flat,lock=False)\n",
    "R = np.frombuffer(R_shared)\n",
    "R = R.reshape((n,r))\n",
    "np.random.seed(1)\n",
    "C_shared = Array(c_double, (np.random.normal(size=(m,r))).flat,lock=False)\n",
    "C = np.frombuffer(C_shared)\n",
    "C = C.reshape((m,r))\n",
    "loss_iter_2 = []\n",
    "iteration = 61\n",
    "total_time = 0\n",
    "time_iter_2 = []\n",
    "p = Pool(t)\n",
    "for j in range(iteration):\n",
    "    for i in range(int(len(final_order) / t) + 1):  \n",
    "        sta = time.time()\n",
    "        p.map(gradient_step, final_order[i*t:(i+1)*t])\n",
    "        fin = time.time()\n",
    "        total_time = total_time + fin - sta\n",
    "    if(j % 2 == 0):\n",
    "        loss = np.sqrt(np.sum(np.square(X - np.multiply(reord, np.matmul(R,C.T)))) / elements)\n",
    "        print('Iter : ',j,' Loss : ', loss)\n",
    "        loss_iter_2.append(loss)\n",
    "        time_iter_2.append(total_time)\n",
    "p.terminate()\n",
    "print(\"Total Time taken : \",total_time)\n",
    "\n",
    "\n",
    "total_iter_2 = len(final_order)\n",
    "print(\"Total updates per iter : \",total_iter_2)"
   ]
  },
  {
   "cell_type": "markdown",
   "metadata": {},
   "source": [
    "# SSGD"
   ]
  },
  {
   "cell_type": "code",
   "execution_count": 20,
   "metadata": {},
   "outputs": [],
   "source": [
    "t = 8\n",
    "pad = min(n,m)\n",
    "px = n - pad\n",
    "py = m - pad\n",
    "if(px == n):\n",
    "    final = []\n",
    "else:\n",
    "    s = reord[px:,py:].nonzero()[0].shape[0]\n",
    "    l = reord[px:,py:].nonzero()[0] \n",
    "    d = reord[px:,py:].nonzero()[1] \n",
    "    l = l.reshape(s,1)\n",
    "    d = d.reshape(s,1)\n",
    "    z = np.concatenate((l,d),axis = 1)\n",
    "    final = reduce_indices(z,t,n-px,px,py)"
   ]
  },
  {
   "cell_type": "code",
   "execution_count": 21,
   "metadata": {},
   "outputs": [],
   "source": [
    "row = reord[:px,:py].nonzero()[0]\n",
    "col = reord[:px,:py].nonzero()[1]\n",
    "ind1 = (np.tile((row,col),1)).T\n",
    "row = reord[:px,py:].nonzero()[0]\n",
    "col = reord[:px,py:].nonzero()[1] + py\n",
    "ind2 = (np.tile((row,col),1)).T\n",
    "row = reord[px:,:py].nonzero()[0] + px\n",
    "col = reord[px:,:py].nonzero()[1]\n",
    "ind3 = (np.tile((row,col),1)).T\n",
    "total_order = np.concatenate((ind1,ind2,ind3)).T\n",
    "total = list(zip((total_order)[0],(total_order)[1]))\n",
    "final_order = final + total"
   ]
  },
  {
   "cell_type": "code",
   "execution_count": 22,
   "metadata": {},
   "outputs": [
    {
     "data": {
      "text/plain": [
       "103316"
      ]
     },
     "execution_count": 22,
     "metadata": {},
     "output_type": "execute_result"
    }
   ],
   "source": [
    "len(final_order)"
   ]
  },
  {
   "cell_type": "code",
   "execution_count": 23,
   "metadata": {},
   "outputs": [
    {
     "name": "stdout",
     "output_type": "stream",
     "text": [
      "Iter :  0  Loss :  2.231540655652358\n",
      "Iter :  2  Loss :  1.0168613985053414\n",
      "Iter :  4  Loss :  0.9297109965082441\n",
      "Iter :  6  Loss :  0.8950450843637838\n",
      "Iter :  8  Loss :  0.8735499598911266\n",
      "Iter :  10  Loss :  0.857512526505917\n",
      "Iter :  12  Loss :  0.8448990388013164\n",
      "Iter :  14  Loss :  0.8346721275706641\n",
      "Iter :  16  Loss :  0.8260826757227903\n",
      "Iter :  18  Loss :  0.8182710902626963\n",
      "Iter :  20  Loss :  0.8117224054184222\n",
      "Iter :  22  Loss :  0.8058687445763396\n",
      "Iter :  24  Loss :  0.8005727704601153\n",
      "Iter :  26  Loss :  0.7958487938533739\n",
      "Iter :  28  Loss :  0.7914662783400428\n",
      "Iter :  30  Loss :  0.7876178100091702\n",
      "Iter :  32  Loss :  0.7840694055930313\n",
      "Iter :  34  Loss :  0.780666438254533\n",
      "Iter :  36  Loss :  0.7778880530019936\n",
      "Iter :  38  Loss :  0.7751066283852465\n",
      "Iter :  40  Loss :  0.7726995995322583\n",
      "Iter :  42  Loss :  0.7705520975352507\n",
      "Iter :  44  Loss :  0.7686607563582241\n",
      "Iter :  46  Loss :  0.7666600897422667\n",
      "Iter :  48  Loss :  0.7650099754428328\n",
      "Iter :  50  Loss :  0.7636167309391552\n",
      "Iter :  52  Loss :  0.7618282302179081\n",
      "Iter :  54  Loss :  0.7605473840010273\n",
      "Iter :  56  Loss :  0.7591294122969955\n",
      "Iter :  58  Loss :  0.758114769989614\n",
      "Iter :  60  Loss :  0.7566631989625809\n",
      "Total Time taken :  386.48124265670776\n",
      "Total updates per iter :  103316\n"
     ]
    }
   ],
   "source": [
    "from multiprocessing import Pool\n",
    "import time\n",
    "learning_rate = 0.4/const\n",
    "np.random.seed(0)\n",
    "R_shared = Array(c_double, (np.random.normal(size=(n,r))).flat,lock=False)\n",
    "R = np.frombuffer(R_shared)\n",
    "R = R.reshape((n,r))\n",
    "np.random.seed(1)\n",
    "C_shared = Array(c_double, (np.random.normal(size=(m,r))).flat,lock=False)\n",
    "C = np.frombuffer(C_shared)\n",
    "C = C.reshape((m,r))\n",
    "#R,C and X are kept global to reduce transfer costs\n",
    "loss_iter_3 = []\n",
    "iteration = 61\n",
    "total_time = 0\n",
    "time_iter_3 = []\n",
    "p = Pool(t)  \n",
    "for j in range(iteration):\n",
    "    for i in range(int(len(final_order) / t) + 1):\n",
    "        sta = time.time()\n",
    "        p.map(gradient_step, final_order[i*t:(i + 1)*t])\n",
    "        fin = time.time()\n",
    "        total_time = total_time + fin - sta\n",
    "    if(j % 2 == 0):\n",
    "        loss = np.sqrt(np.sum(np.square(X - np.multiply(reord, np.matmul(R,C.T)))) / elements)\n",
    "        print('Iter : ',j,' Loss : ', loss)\n",
    "        loss_iter_3.append(loss)\n",
    "        time_iter_3.append(total_time)\n",
    "p.terminate()    \n",
    "print(\"Total Time taken : \",total_time)\n",
    "\n",
    "total_iter_3 = len(final_order)\n",
    "print(\"Total updates per iter : \",total_iter_3)"
   ]
  },
  {
   "cell_type": "markdown",
   "metadata": {},
   "source": [
    "# Comparative Results"
   ]
  },
  {
   "cell_type": "code",
   "execution_count": 24,
   "metadata": {},
   "outputs": [],
   "source": [
    "import matplotlib.pyplot as plt"
   ]
  },
  {
   "cell_type": "code",
   "execution_count": 25,
   "metadata": {},
   "outputs": [
    {
     "data": {
      "text/plain": [
       "Text(0.5, 1.0, 'A plot of loss vs number of epochs for 3 different methods')"
      ]
     },
     "execution_count": 25,
     "metadata": {},
     "output_type": "execute_result"
    },
    {
     "data": {
      "image/png": "[encoded data removed]",
      "text/plain": [
       "<Figure size 432x288 with 1 Axes>"
      ]
     },
     "metadata": {
      "needs_background": "light"
     },
     "output_type": "display_data"
    }
   ],
   "source": [
    "sta = 2\n",
    "y = 31 - sta\n",
    "x = np.arange(y) * 2 + sta\n",
    "plt.plot(x,loss_iter_1[sta:],label='Normal Hogwild')\n",
    "plt.plot(x,loss_iter_2[sta:],label='Proposed Method')\n",
    "plt.plot(x,loss_iter_3[sta:],label='SSGD')\n",
    "plt.legend()\n",
    "plt.ylabel('Loss value')\n",
    "plt.xlabel('Number of epochs')\n",
    "plt.title('A plot of loss vs number of epochs for 3 different methods')"
   ]
  },
  {
   "cell_type": "code",
   "execution_count": 26,
   "metadata": {},
   "outputs": [
    {
     "data": {
      "text/plain": [
       "Text(0, 0.5, 'Number of parallel computations in 60 epochs')"
      ]
     },
     "execution_count": 26,
     "metadata": {},
     "output_type": "execute_result"
    },
    {
     "data": {
      "image/png": "[encoded data removed]",
      "text/plain": [
       "<Figure size 432x288 with 1 Axes>"
      ]
     },
     "metadata": {
      "needs_background": "light"
     },
     "output_type": "display_data"
    }
   ],
   "source": [
    "plt.bar(['Normal Hogwild','Proposed Method','SSGD'],[total_iter_1 / t,total_iter_2 / t,total_iter_3 / t])\n",
    "plt.ylabel('Number of parallel computations in 60 epochs')"
   ]
  },
  {
   "cell_type": "code",
   "execution_count": 36,
   "metadata": {},
   "outputs": [
    {
     "data": {
      "text/plain": [
       "Text(0.5, 1.0, 'A plot of loss vs number of pool iterations for 3 different methods')"
      ]
     },
     "execution_count": 36,
     "metadata": {},
     "output_type": "execute_result"
    },
    {
     "data": {
      "image/png": "[encoded data removed]",
      "text/plain": [
       "<Figure size 432x288 with 1 Axes>"
      ]
     },
     "metadata": {
      "needs_background": "light"
     },
     "output_type": "display_data"
    }
   ],
   "source": [
    "sta = 4\n",
    "y = 31 - sta\n",
    "x = np.arange(y) * 2 + sta\n",
    "plt.plot(x*total_iter_1 / t,loss_iter_1[sta:],label='Normal Hogwild')\n",
    "plt.plot(x*total_iter_2 / t,loss_iter_2[sta:],label='Proposed Method')\n",
    "plt.plot(x*total_iter_3 / t,loss_iter_3[sta:],label='SSGD')\n",
    "plt.legend()\n",
    "plt.ylabel('Loss value')\n",
    "plt.xlabel('Number of pool iterations')\n",
    "plt.title('A plot of loss vs number of pool iterations for 3 different methods')"
   ]
  },
  {
   "cell_type": "code",
   "execution_count": 28,
   "metadata": {},
   "outputs": [
    {
     "data": {
      "text/plain": [
       "Text(0.5, 1.0, 'A plot of loss vs time elapsed for 3 different methods')"
      ]
     },
     "execution_count": 28,
     "metadata": {},
     "output_type": "execute_result"
    },
    {
     "data": {
      "image/png": "[encoded data removed]",
      "text/plain": [
       "<Figure size 432x288 with 1 Axes>"
      ]
     },
     "metadata": {
      "needs_background": "light"
     },
     "output_type": "display_data"
    }
   ],
   "source": [
    "sta = 4\n",
    "plt.plot(time_iter_1[sta:],loss_iter_1[sta:],label='Normal Hogwild')\n",
    "plt.plot(time_iter_2[sta:],loss_iter_2[sta:],label='Proposed Method')\n",
    "plt.plot(time_iter_3[sta:],loss_iter_3[sta:],label='SSGD')\n",
    "plt.legend()\n",
    "plt.ylabel('Loss Value')\n",
    "plt.xlabel('Time in seconds')\n",
    "plt.title('A plot of loss vs time elapsed for 3 different methods')"
   ]
  }
 ],
 "metadata": {
  "kernelspec": {
   "display_name": "Python 3",
   "language": "python",
   "name": "python3"
  },
  "language_info": {
   "codemirror_mode": {
    "name": "ipython",
    "version": 3
   },
   "file_extension": ".py",
   "mimetype": "text/x-python",
   "name": "python",
   "nbconvert_exporter": "python",
   "pygments_lexer": "ipython3",
   "version": "3.7.6"
  }
 },
 "nbformat": 4,
 "nbformat_minor": 4
}
