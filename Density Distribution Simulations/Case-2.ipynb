{
 "cells": [
  {
   "cell_type": "markdown",
   "metadata": {},
   "source": [
    "# Most High Density Zones can be rearranged inside 2000x2000 submatrix, in a 5000x5000 matrix"
   ]
  },
  {
   "cell_type": "code",
   "execution_count": 2,
   "metadata": {},
   "outputs": [],
   "source": [
    "import scipy.sparse\n",
    "import numpy as np\n",
    "from multiprocessing.sharedctypes import Array\n",
    "from ctypes import c_double\n",
    "from scipy import stats"
   ]
  },
  {
   "cell_type": "markdown",
   "metadata": {},
   "source": [
    "# Generating Data"
   ]
  },
  {
   "cell_type": "code",
   "execution_count": 31,
   "metadata": {},
   "outputs": [],
   "source": [
    "a = 500\n",
    "h = 0.05\n",
    "l = 0.005\n",
    "rvs = stats.randint(1,2).rvs\n",
    "A1 = scipy.sparse.random(a,a,density=l,data_rvs=rvs)\n",
    "B1 = scipy.sparse.random(a,a,density=l,data_rvs=rvs)\n",
    "C1 = scipy.sparse.random(a,a,density=h,data_rvs=rvs)\n",
    "D1 = scipy.sparse.random(a,a,density=l,data_rvs=rvs)\n",
    "E1 = scipy.sparse.random(a,a,density=h,data_rvs=rvs)\n",
    "F1 = scipy.sparse.random(a,a,density=l,data_rvs=rvs)\n",
    "G1 = scipy.sparse.random(a,a,density=h,data_rvs=rvs)\n",
    "H1 = scipy.sparse.random(a,a,density=l,data_rvs=rvs)\n",
    "I1 = scipy.sparse.random(a,a,density=l,data_rvs=rvs)\n",
    "J1 = scipy.sparse.random(a,a,density=l,data_rvs=rvs)\n",
    "M1 = scipy.sparse.hstack([A1,B1,C1,D1,E1,F1,G1,H1,I1,J1])\n",
    "A1 = scipy.sparse.random(a,a,density=l,data_rvs=rvs)\n",
    "B1 = scipy.sparse.random(a,a,density=l,data_rvs=rvs)\n",
    "C1 = scipy.sparse.random(a,a,density=l,data_rvs=rvs)\n",
    "D1 = scipy.sparse.random(a,a,density=l,data_rvs=rvs)\n",
    "E1 = scipy.sparse.random(a,a,density=l,data_rvs=rvs)\n",
    "F1 = scipy.sparse.random(a,a,density=l,data_rvs=rvs)\n",
    "G1 = scipy.sparse.random(a,a,density=l,data_rvs=rvs)\n",
    "H1 = scipy.sparse.random(a,a,density=l,data_rvs=rvs)\n",
    "I1 = scipy.sparse.random(a,a,density=l,data_rvs=rvs)\n",
    "J1 = scipy.sparse.random(a,a,density=l,data_rvs=rvs)\n",
    "M2 = scipy.sparse.hstack([A1,B1,C1,D1,E1,F1,G1,H1,I1,J1])\n",
    "A1 = scipy.sparse.random(a,a,density=h,data_rvs=rvs)\n",
    "B1 = scipy.sparse.random(a,a,density=l,data_rvs=rvs)\n",
    "C1 = scipy.sparse.random(a,a,density=h,data_rvs=rvs)\n",
    "D1 = scipy.sparse.random(a,a,density=l,data_rvs=rvs)\n",
    "E1 = scipy.sparse.random(a,a,density=l,data_rvs=rvs)\n",
    "F1 = scipy.sparse.random(a,a,density=l,data_rvs=rvs)\n",
    "G1 = scipy.sparse.random(a,a,density=l,data_rvs=rvs)\n",
    "H1 = scipy.sparse.random(a,a,density=l,data_rvs=rvs)\n",
    "I1 = scipy.sparse.random(a,a,density=l,data_rvs=rvs)\n",
    "J1 = scipy.sparse.random(a,a,density=l,data_rvs=rvs)\n",
    "M3 = scipy.sparse.hstack([A1,B1,C1,D1,E1,F1,G1,H1,I1,J1])\n",
    "A1 = scipy.sparse.random(a,a,density=l,data_rvs=rvs)\n",
    "B1 = scipy.sparse.random(a,a,density=l,data_rvs=rvs)\n",
    "C1 = scipy.sparse.random(a,a,density=l,data_rvs=rvs)\n",
    "D1 = scipy.sparse.random(a,a,density=l,data_rvs=rvs)\n",
    "E1 = scipy.sparse.random(a,a,density=l,data_rvs=rvs)\n",
    "F1 = scipy.sparse.random(a,a,density=l,data_rvs=rvs)\n",
    "G1 = scipy.sparse.random(a,a,density=l,data_rvs=rvs)\n",
    "H1 = scipy.sparse.random(a,a,density=l,data_rvs=rvs)\n",
    "I1 = scipy.sparse.random(a,a,density=l,data_rvs=rvs)\n",
    "J1 = scipy.sparse.random(a,a,density=l,data_rvs=rvs)\n",
    "M4 = scipy.sparse.hstack([A1,B1,C1,D1,E1,F1,G1,H1,I1,J1])\n",
    "A1 = scipy.sparse.random(a,a,density=h,data_rvs=rvs)\n",
    "B1 = scipy.sparse.random(a,a,density=l,data_rvs=rvs)\n",
    "C1 = scipy.sparse.random(a,a,density=l,data_rvs=rvs)\n",
    "D1 = scipy.sparse.random(a,a,density=l,data_rvs=rvs)\n",
    "E1 = scipy.sparse.random(a,a,density=h,data_rvs=rvs)\n",
    "F1 = scipy.sparse.random(a,a,density=l,data_rvs=rvs)\n",
    "G1 = scipy.sparse.random(a,a,density=l,data_rvs=rvs)\n",
    "H1 = scipy.sparse.random(a,a,density=l,data_rvs=rvs)\n",
    "I1 = scipy.sparse.random(a,a,density=l,data_rvs=rvs)\n",
    "J1 = scipy.sparse.random(a,a,density=l,data_rvs=rvs)\n",
    "M5 = scipy.sparse.hstack([A1,B1,C1,D1,E1,F1,G1,H1,I1,J1])\n",
    "A1 = scipy.sparse.random(a,a,density=l,data_rvs=rvs)\n",
    "B1 = scipy.sparse.random(a,a,density=l,data_rvs=rvs)\n",
    "C1 = scipy.sparse.random(a,a,density=l,data_rvs=rvs)\n",
    "D1 = scipy.sparse.random(a,a,density=l,data_rvs=rvs)\n",
    "E1 = scipy.sparse.random(a,a,density=l,data_rvs=rvs)\n",
    "F1 = scipy.sparse.random(a,a,density=l,data_rvs=rvs)\n",
    "G1 = scipy.sparse.random(a,a,density=l,data_rvs=rvs)\n",
    "H1 = scipy.sparse.random(a,a,density=l,data_rvs=rvs)\n",
    "I1 = scipy.sparse.random(a,a,density=l,data_rvs=rvs)\n",
    "J1 = scipy.sparse.random(a,a,density=l,data_rvs=rvs)\n",
    "M6 = scipy.sparse.hstack([A1,B1,C1,D1,E1,F1,G1,H1,I1,J1])\n",
    "A1 = scipy.sparse.random(a,a,density=h,data_rvs=rvs)\n",
    "B1 = scipy.sparse.random(a,a,density=l,data_rvs=rvs)\n",
    "C1 = scipy.sparse.random(a,a,density=l,data_rvs=rvs)\n",
    "D1 = scipy.sparse.random(a,a,density=l,data_rvs=rvs)\n",
    "E1 = scipy.sparse.random(a,a,density=l,data_rvs=rvs)\n",
    "F1 = scipy.sparse.random(a,a,density=l,data_rvs=rvs)\n",
    "G1 = scipy.sparse.random(a,a,density=h,data_rvs=rvs)\n",
    "H1 = scipy.sparse.random(a,a,density=l,data_rvs=rvs)\n",
    "I1 = scipy.sparse.random(a,a,density=l,data_rvs=rvs)\n",
    "J1 = scipy.sparse.random(a,a,density=l,data_rvs=rvs)\n",
    "M7 = scipy.sparse.hstack([A1,B1,C1,D1,E1,F1,G1,H1,I1,J1])\n",
    "A1 = scipy.sparse.random(a,a,density=l,data_rvs=rvs)\n",
    "B1 = scipy.sparse.random(a,a,density=l,data_rvs=rvs)\n",
    "C1 = scipy.sparse.random(a,a,density=l,data_rvs=rvs)\n",
    "D1 = scipy.sparse.random(a,a,density=l,data_rvs=rvs)\n",
    "E1 = scipy.sparse.random(a,a,density=l,data_rvs=rvs)\n",
    "F1 = scipy.sparse.random(a,a,density=l,data_rvs=rvs)\n",
    "G1 = scipy.sparse.random(a,a,density=l,data_rvs=rvs)\n",
    "H1 = scipy.sparse.random(a,a,density=l,data_rvs=rvs)\n",
    "I1 = scipy.sparse.random(a,a,density=l,data_rvs=rvs)\n",
    "J1 = scipy.sparse.random(a,a,density=l,data_rvs=rvs)\n",
    "M8 = scipy.sparse.hstack([A1,B1,C1,D1,E1,F1,G1,H1,I1,J1])\n",
    "A1 = scipy.sparse.random(a,a,density=l,data_rvs=rvs)\n",
    "B1 = scipy.sparse.random(a,a,density=l,data_rvs=rvs)\n",
    "C1 = scipy.sparse.random(a,a,density=l,data_rvs=rvs)\n",
    "D1 = scipy.sparse.random(a,a,density=l,data_rvs=rvs)\n",
    "E1 = scipy.sparse.random(a,a,density=l,data_rvs=rvs)\n",
    "F1 = scipy.sparse.random(a,a,density=l,data_rvs=rvs)\n",
    "G1 = scipy.sparse.random(a,a,density=l,data_rvs=rvs)\n",
    "H1 = scipy.sparse.random(a,a,density=l,data_rvs=rvs)\n",
    "I1 = scipy.sparse.random(a,a,density=l,data_rvs=rvs)\n",
    "J1 = scipy.sparse.random(a,a,density=l,data_rvs=rvs)\n",
    "M9 = scipy.sparse.hstack([A1,B1,C1,D1,E1,F1,G1,H1,I1,J1])\n",
    "A1 = scipy.sparse.random(a,a,density=l,data_rvs=rvs)\n",
    "B1 = scipy.sparse.random(a,a,density=l,data_rvs=rvs)\n",
    "C1 = scipy.sparse.random(a,a,density=l,data_rvs=rvs)\n",
    "D1 = scipy.sparse.random(a,a,density=l,data_rvs=rvs)\n",
    "E1 = scipy.sparse.random(a,a,density=l,data_rvs=rvs)\n",
    "F1 = scipy.sparse.random(a,a,density=l,data_rvs=rvs)\n",
    "G1 = scipy.sparse.random(a,a,density=l,data_rvs=rvs)\n",
    "H1 = scipy.sparse.random(a,a,density=l,data_rvs=rvs)\n",
    "I1 = scipy.sparse.random(a,a,density=l,data_rvs=rvs)\n",
    "J1 = scipy.sparse.random(a,a,density=l,data_rvs=rvs)\n",
    "M10 = scipy.sparse.hstack([A1,B1,C1,D1,E1,F1,G1,H1,I1,J1])\n",
    "O = scipy.sparse.vstack([M1,M2,M3,M4,M5,M6,M7,M8,M9,M10])"
   ]
  },
  {
   "cell_type": "code",
   "execution_count": 32,
   "metadata": {},
   "outputs": [],
   "source": [
    "n = 10 * a\n",
    "r = 5"
   ]
  },
  {
   "cell_type": "code",
   "execution_count": 33,
   "metadata": {},
   "outputs": [],
   "source": [
    "R_real = np.random.normal(size=(n,r))\n",
    "C_real = np.random.normal(size=(n,r))\n",
    "X = np.matmul(R_real,C_real.T)"
   ]
  },
  {
   "cell_type": "markdown",
   "metadata": {},
   "source": [
    "# Function to permute the matrix according to proposed algorithm"
   ]
  },
  {
   "cell_type": "code",
   "execution_count": 6,
   "metadata": {},
   "outputs": [],
   "source": [
    "def rearrange(O):\n",
    "    full = O.todense()\n",
    "    n = full.shape[0]\n",
    "    #print(n)\n",
    "    rowsum = O.sum(1).reshape(n)\n",
    "    #print(rowsum)\n",
    "    colsum = O.sum(0)\n",
    "    #print(colsum)\n",
    "    roword = np.argsort(rowsum)\n",
    "    #print(roword)\n",
    "    colord = np.argsort(colsum)\n",
    "    full = full[roword]\n",
    "    #print(colord)\n",
    "    full = full[:,:,colord]\n",
    "    full = full.reshape(n,n)\n",
    "    return full"
   ]
  },
  {
   "cell_type": "markdown",
   "metadata": {},
   "source": [
    "# Functions to build strata as in SSGD "
   ]
  },
  {
   "cell_type": "code",
   "execution_count": 7,
   "metadata": {},
   "outputs": [],
   "source": [
    "def reduce_indices(O,numcores,numdim,p):\n",
    "    maxj = O.shape[0] - 1\n",
    "    #print(maxj)\n",
    "    M = (O[:,0] - O[:,1]) % numdim\n",
    "    M = M.reshape(maxj + 1,1)\n",
    "    M = np.concatenate((O,M),axis = 1)\n",
    "    #print(M)\n",
    "    M = M[np.argsort(M[:,2])]\n",
    "    #print(M)\n",
    "    #print(maxj)\n",
    "    A = []\n",
    "    j = 0\n",
    "    countdim = 0\n",
    "    while(countdim < numdim):\n",
    "        countcores = 0\n",
    "        if(j == maxj + 1):\n",
    "            return A\n",
    "        else:\n",
    "            while(j <= maxj and M[j][2] == countdim):\n",
    "                A.append((M[j][0]+p,M[j][1]+p))\n",
    "                j = j + 1\n",
    "                countcores = countcores + 1\n",
    "            while(countcores % numcores != 0):\n",
    "                A.append((-1,-1))\n",
    "                countcores = countcores + 1\n",
    "        countdim = countdim + 1\n",
    "    return A"
   ]
  },
  {
   "cell_type": "markdown",
   "metadata": {},
   "source": [
    "# Hogwild SGD Function"
   ]
  },
  {
   "cell_type": "code",
   "execution_count": 8,
   "metadata": {},
   "outputs": [],
   "source": [
    "learning_rate = 0.001\n",
    "def gradient_step(index):\n",
    "    i,j = index\n",
    "    global R\n",
    "    global C\n",
    "    global X\n",
    "    if(i != -1 and j != -1):\n",
    "        \n",
    "        err = X[i,j] - np.dot(R[i],C[j])\n",
    "        grad1 = -2 * err * C[j]\n",
    "        grad2 = -2 * err * R[i]\n",
    "\n",
    "\n",
    "        for index in np.where(abs(grad1) > .0001)[0]:\n",
    "          R_shared[i*r + index] -= learning_rate*grad1[index]\n",
    "\n",
    "        for index in np.where(abs(grad2) > .0001)[0]:\n",
    "          C_shared[j*r + index] -= learning_rate*grad2[index]"
   ]
  },
  {
   "cell_type": "markdown",
   "metadata": {},
   "source": [
    "# Preparing the permutations of samples to Hogwild"
   ]
  },
  {
   "cell_type": "code",
   "execution_count": 34,
   "metadata": {},
   "outputs": [],
   "source": [
    "reord = rearrange(O)"
   ]
  },
  {
   "cell_type": "code",
   "execution_count": 35,
   "metadata": {},
   "outputs": [],
   "source": [
    "X = np.multiply(X,reord)"
   ]
  },
  {
   "cell_type": "code",
   "execution_count": 36,
   "metadata": {},
   "outputs": [
    {
     "data": {
      "text/plain": [
       "226250"
      ]
     },
     "execution_count": 36,
     "metadata": {},
     "output_type": "execute_result"
    }
   ],
   "source": [
    "elements = np.count_nonzero(reord)\n",
    "elements"
   ]
  },
  {
   "cell_type": "markdown",
   "metadata": {},
   "source": [
    "# Normal Hogwild "
   ]
  },
  {
   "cell_type": "code",
   "execution_count": 37,
   "metadata": {},
   "outputs": [],
   "source": [
    "t = 8\n",
    "p = n\n",
    "if(p == n):\n",
    "    final = []\n",
    "else:\n",
    "    s = reord[p:,p:].nonzero()[0].shape[0]\n",
    "    l = reord[p:,p:].nonzero()[0] \n",
    "    #print(l)\n",
    "    m = reord[p:,p:].nonzero()[1] \n",
    "    #print(m)\n",
    "    l = l.reshape(s,1)\n",
    "    m = m.reshape(s,1)\n",
    "    z = np.concatenate((l,m),axis = 1)\n",
    "    #print(z)\n",
    "    #strat = stratify_index(n - p) + p\n",
    "    #stratified = list(zip(strat[0],strat[1]))\n",
    "    #print(len(stratified))\n",
    "    #final = reduce_indices(stratified,nonzero[::-1],t,n-p)\n",
    "    #print(len(final))\n",
    "    final = reduce_indices(z,t,n-p,p)\n",
    "    #print(final)"
   ]
  },
  {
   "cell_type": "code",
   "execution_count": 38,
   "metadata": {},
   "outputs": [
    {
     "name": "stdout",
     "output_type": "stream",
     "text": [
      "0.0010917127071823204\n",
      "0.0005480662983425415\n",
      "2\n",
      "13.03873992055124\n"
     ]
    }
   ],
   "source": [
    "if(p == n):\n",
    "    b1 = 0\n",
    "else:\n",
    "    b1 = reord[p:,:p].sum(1).max()\n",
    "if(p == n):\n",
    "    b2 = 0\n",
    "else:\n",
    "    b2 = reord[:p,p:].sum(0).max()\n",
    "#omega = (o1 + o2 + o3) / (n * n)\n",
    "omega = 2\n",
    "deltar = max(reord[:p,:n].sum(1).max(),b1) / np.count_nonzero(reord)\n",
    "deltac = max(reord[:n,:p].sum(0).max(),b2) / np.count_nonzero(reord)\n",
    "rho = deltar + deltac\n",
    "delta = max(deltar,deltac)\n",
    "print(rho)\n",
    "print(delta)\n",
    "print(omega)\n",
    "const = (1 + 6 * rho * t + 4 * t * t * np.sqrt(delta) * omega)\n",
    "print(const)"
   ]
  },
  {
   "cell_type": "code",
   "execution_count": 39,
   "metadata": {},
   "outputs": [],
   "source": [
    "row = reord[:p,:p].nonzero()[0]\n",
    "col = reord[:p,:p].nonzero()[1]\n",
    "ind1 = (np.tile((row,col),1)).T\n",
    "row = reord[:p,p:].nonzero()[0]\n",
    "col = reord[:p,p:].nonzero()[1] + p\n",
    "ind2 = (np.tile((row,col),1)).T\n",
    "row = reord[p:,:p].nonzero()[0] + p\n",
    "col = reord[p:,:p].nonzero()[1]\n",
    "ind3 = (np.tile((row,col),1)).T\n",
    "total_order = np.concatenate((ind1,ind2,ind3)).T\n",
    "total = list(zip((total_order)[0],(total_order)[1]))\n",
    "final_order = final + total"
   ]
  },
  {
   "cell_type": "code",
   "execution_count": 40,
   "metadata": {},
   "outputs": [
    {
     "data": {
      "text/plain": [
       "226250"
      ]
     },
     "execution_count": 40,
     "metadata": {},
     "output_type": "execute_result"
    }
   ],
   "source": [
    "len(final_order)"
   ]
  },
  {
   "cell_type": "code",
   "execution_count": 41,
   "metadata": {},
   "outputs": [
    {
     "name": "stdout",
     "output_type": "stream",
     "text": [
      "Iter :  0  Loss :  2.066626139641659\n",
      "Iter :  2  Loss :  1.3200034409681833\n",
      "Iter :  4  Loss :  0.7846695271238137\n",
      "Iter :  6  Loss :  0.41222627031934683\n",
      "Iter :  8  Loss :  0.19619103185892783\n",
      "Iter :  10  Loss :  0.10059601787992734\n",
      "Total Time taken :  160.14856886863708\n",
      "Total updates per iter :  226250\n"
     ]
    }
   ],
   "source": [
    "from multiprocessing import Pool\n",
    "import time\n",
    "learning_rate = .3 / const\n",
    "#learning_rate = 0.03\n",
    "np.random.seed(0)\n",
    "R_shared = Array(c_double, (np.random.normal(size=(n,r))).flat,lock=False)\n",
    "R = np.frombuffer(R_shared)\n",
    "R = R.reshape((n,r))\n",
    "np.random.seed(1)\n",
    "C_shared = Array(c_double, (np.random.normal(size=(n,r))).flat,lock=False)\n",
    "C = np.frombuffer(C_shared)\n",
    "C = C.reshape((n,r))\n",
    "#R,C and X are kept global to reduce transfer costs\n",
    "loss_iter_1 = []\n",
    "iteration = 11\n",
    "total_time = 0\n",
    "time_iter_1 = []\n",
    "p = Pool(t) \n",
    "#final_order = final + total\n",
    "for j in range(iteration): \n",
    "    #random.shuffle(final_order)\n",
    "    for i in range(int(len(final_order) / t) + 1):\n",
    "        sta = time.time()\n",
    "        p.map(gradient_step, final_order[i*t:(i+1)*t])\n",
    "        fin = time.time()\n",
    "        total_time = total_time + fin - sta\n",
    "    if(j % 2 == 0):\n",
    "        #loss = np.sqrt(np.sum(np.square(X - np.resize(reord,(n,n)) * np.matmul(R,C.T)))/len(nonzero))\n",
    "        loss = np.sqrt(np.sum(np.square(X - np.multiply(reord, np.matmul(R,C.T)))) / elements)\n",
    "        print('Iter : ',j,' Loss : ', loss)\n",
    "        loss_iter_1.append(loss)\n",
    "        time_iter_1.append(total_time)\n",
    "p.terminate()\n",
    "print(\"Total Time taken : \",total_time)\n",
    "\n",
    "total_iter_1 = len(final_order)\n",
    "print(\"Total updates per iter : \",total_iter_1)"
   ]
  },
  {
   "cell_type": "markdown",
   "metadata": {},
   "source": [
    "# Proposed Method"
   ]
  },
  {
   "cell_type": "code",
   "execution_count": 42,
   "metadata": {},
   "outputs": [],
   "source": [
    "t = 8\n",
    "p = n - 4 * a\n",
    "if(p == n):\n",
    "    final = []\n",
    "else:\n",
    "    s = reord[p:,p:].nonzero()[0].shape[0]\n",
    "    l = reord[p:,p:].nonzero()[0] \n",
    "    #print(l)\n",
    "    m = reord[p:,p:].nonzero()[1] \n",
    "    #print(m)\n",
    "    l = l.reshape(s,1)\n",
    "    m = m.reshape(s,1)\n",
    "    z = np.concatenate((l,m),axis = 1)\n",
    "    #print(z)\n",
    "    #strat = stratify_index(n - p) + p\n",
    "    #stratified = list(zip(strat[0],strat[1]))\n",
    "    #print(len(stratified))\n",
    "    #final = reduce_indices(stratified,nonzero[::-1],t,n-p)\n",
    "    #print(len(final))\n",
    "    final = reduce_indices(z,t,n-p,p)\n",
    "    #print(final)"
   ]
  },
  {
   "cell_type": "code",
   "execution_count": 43,
   "metadata": {},
   "outputs": [
    {
     "name": "stdout",
     "output_type": "stream",
     "text": [
      "0.00037569060773480663\n",
      "0.00019005524861878453\n",
      "2\n",
      "8.076492123616234\n"
     ]
    }
   ],
   "source": [
    "if(p == n):\n",
    "    b1 = 0\n",
    "else:\n",
    "    b1 = reord[p:,:p].sum(1).max()\n",
    "if(p == n):\n",
    "    b2 = 0\n",
    "else:\n",
    "    b2 = reord[:p,p:].sum(0).max()\n",
    "#omega = (o1 + o2 + o3) / (n * n)\n",
    "omega = 2\n",
    "deltar = max(reord[:p,:n].sum(1).max(),b1) / np.count_nonzero(reord)\n",
    "deltac = max(reord[:n,:p].sum(0).max(),b2) / np.count_nonzero(reord)\n",
    "rho = deltar + deltac\n",
    "delta = max(deltar,deltac)\n",
    "print(rho)\n",
    "print(delta)\n",
    "print(omega)\n",
    "const = (1 + 6 * rho * t + 4 * t * t * np.sqrt(delta) * omega)\n",
    "print(const)"
   ]
  },
  {
   "cell_type": "code",
   "execution_count": 44,
   "metadata": {},
   "outputs": [],
   "source": [
    "row = reord[:p,:p].nonzero()[0]\n",
    "col = reord[:p,:p].nonzero()[1]\n",
    "ind1 = (np.tile((row,col),1)).T\n",
    "row = reord[:p,p:].nonzero()[0]\n",
    "col = reord[:p,p:].nonzero()[1] + p\n",
    "ind2 = (np.tile((row,col),1)).T\n",
    "row = reord[p:,:p].nonzero()[0] + p\n",
    "col = reord[p:,:p].nonzero()[1]\n",
    "ind3 = (np.tile((row,col),1)).T\n",
    "total_order = np.concatenate((ind1,ind2,ind3)).T\n",
    "total = list(zip((total_order)[0],(total_order)[1]))\n",
    "final_order = final + total"
   ]
  },
  {
   "cell_type": "code",
   "execution_count": 45,
   "metadata": {},
   "outputs": [
    {
     "data": {
      "text/plain": [
       "233149"
      ]
     },
     "execution_count": 45,
     "metadata": {},
     "output_type": "execute_result"
    }
   ],
   "source": [
    "len(final_order)"
   ]
  },
  {
   "cell_type": "code",
   "execution_count": 46,
   "metadata": {},
   "outputs": [
    {
     "name": "stdout",
     "output_type": "stream",
     "text": [
      "Iter :  0  Loss :  1.9735163548834684\n",
      "Iter :  2  Loss :  0.5704664110518417\n",
      "Iter :  4  Loss :  0.1565693927356538\n",
      "Iter :  6  Loss :  0.05963896507250242\n",
      "Iter :  8  Loss :  0.02801703230696292\n",
      "Iter :  10  Loss :  0.01501625361376887\n",
      "Total Time taken :  167.32853746414185\n",
      "Total updates per iter :  233149\n"
     ]
    }
   ],
   "source": [
    "from multiprocessing import Pool\n",
    "import time\n",
    "np.random.seed(0)\n",
    "learning_rate = .3 / const\n",
    "R_shared = Array(c_double, (np.random.normal(size=(n,r))).flat,lock=False)\n",
    "R = np.frombuffer(R_shared)\n",
    "R = R.reshape((n,r))\n",
    "np.random.seed(1)\n",
    "C_shared = Array(c_double, (np.random.normal(size=(n,r))).flat,lock=False)\n",
    "C = np.frombuffer(C_shared)\n",
    "C = C.reshape((n,r))\n",
    "loss_iter_2 = []\n",
    "iteration = 11\n",
    "total_time = 0\n",
    "time_iter_2 = []\n",
    "p = Pool(t)\n",
    "for j in range(iteration):\n",
    "    for i in range(int(len(final_order) / t) + 1):  \n",
    "        sta = time.time()\n",
    "        p.map(gradient_step, final_order[i*t:(i+1)*t])\n",
    "        fin = time.time()\n",
    "        total_time = total_time + fin - sta\n",
    "    if(j % 2 == 0):\n",
    "        #loss = np.sqrt(np.sum(np.square(X - np.resize(reord,(n,n)) * np.matmul(R,C.T)))/len(nonzero))\n",
    "        loss = np.sqrt(np.sum(np.square(X - np.multiply(reord, np.matmul(R,C.T)))) / elements)\n",
    "        print('Iter : ',j,' Loss : ', loss)\n",
    "        loss_iter_2.append(loss)\n",
    "        time_iter_2.append(total_time)\n",
    "p.terminate()\n",
    "print(\"Total Time taken : \",total_time)\n",
    "\n",
    "\n",
    "total_iter_2 = len(final_order)\n",
    "print(\"Total updates per iter : \",total_iter_2)"
   ]
  },
  {
   "cell_type": "markdown",
   "metadata": {},
   "source": [
    "# SSGD"
   ]
  },
  {
   "cell_type": "code",
   "execution_count": 47,
   "metadata": {},
   "outputs": [],
   "source": [
    "t = 8\n",
    "p = 0\n",
    "if(p == n):\n",
    "    final = []\n",
    "else:\n",
    "    s = reord[p:,p:].nonzero()[0].shape[0]\n",
    "    l = reord[p:,p:].nonzero()[0] \n",
    "    #print(l)\n",
    "    m = reord[p:,p:].nonzero()[1] \n",
    "    #print(m)\n",
    "    l = l.reshape(s,1)\n",
    "    m = m.reshape(s,1)\n",
    "    z = np.concatenate((l,m),axis = 1)\n",
    "    #print(z)\n",
    "    #strat = stratify_index(n - p) + p\n",
    "    #stratified = list(zip(strat[0],strat[1]))\n",
    "    #print(len(stratified))\n",
    "    #final = reduce_indices(stratified,nonzero[::-1],t,n-p)\n",
    "    #print(len(final))\n",
    "    final = reduce_indices(z,t,n-p,p)\n",
    "    #print(final)"
   ]
  },
  {
   "cell_type": "code",
   "execution_count": 48,
   "metadata": {},
   "outputs": [],
   "source": [
    "row = reord[:p,:p].nonzero()[0]\n",
    "col = reord[:p,:p].nonzero()[1]\n",
    "ind1 = (np.tile((row,col),1)).T\n",
    "row = reord[:p,p:].nonzero()[0]\n",
    "col = reord[:p,p:].nonzero()[1] + p\n",
    "ind2 = (np.tile((row,col),1)).T\n",
    "row = reord[p:,:p].nonzero()[0] + p\n",
    "col = reord[p:,:p].nonzero()[1]\n",
    "ind3 = (np.tile((row,col),1)).T\n",
    "total_order = np.concatenate((ind1,ind2,ind3)).T\n",
    "total = list(zip((total_order)[0],(total_order)[1]))\n",
    "final_order = final + total"
   ]
  },
  {
   "cell_type": "code",
   "execution_count": 49,
   "metadata": {},
   "outputs": [
    {
     "data": {
      "text/plain": [
       "243680"
      ]
     },
     "execution_count": 49,
     "metadata": {},
     "output_type": "execute_result"
    }
   ],
   "source": [
    "len(final_order)"
   ]
  },
  {
   "cell_type": "code",
   "execution_count": 50,
   "metadata": {},
   "outputs": [
    {
     "name": "stdout",
     "output_type": "stream",
     "text": [
      "Iter :  0  Loss :  1.9987709391079318\n",
      "Iter :  2  Loss :  0.6324711543782413\n",
      "Iter :  4  Loss :  0.16664703545513349\n",
      "Iter :  6  Loss :  0.06143416989322787\n",
      "Iter :  8  Loss :  0.028507706518951063\n",
      "Iter :  10  Loss :  0.015105077262978788\n",
      "Total Time taken :  165.11172676086426\n",
      "Total updates per iter :  243680\n"
     ]
    }
   ],
   "source": [
    "from multiprocessing import Pool\n",
    "import time\n",
    "#const = 12.8\n",
    "learning_rate = 0.3/const\n",
    "np.random.seed(0)\n",
    "R_shared = Array(c_double, (np.random.normal(size=(n,r))).flat,lock=False)\n",
    "R = np.frombuffer(R_shared)\n",
    "R = R.reshape((n,r))\n",
    "np.random.seed(1)\n",
    "C_shared = Array(c_double, (np.random.normal(size=(n,r))).flat,lock=False)\n",
    "C = np.frombuffer(C_shared)\n",
    "C = C.reshape((n,r))\n",
    "#R,C and X are kept global to reduce transfer costs\n",
    "loss_iter_3 = []\n",
    "iteration = 11\n",
    "total_time = 0\n",
    "time_iter_3 = []\n",
    "p = Pool(t)  \n",
    "#final_order = final + total\n",
    "for j in range(iteration):\n",
    "    for i in range(int(len(final_order) / t) + 1):\n",
    "        sta = time.time()\n",
    "        p.map(gradient_step, final_order[i*t:(i + 1)*t])\n",
    "        fin = time.time()\n",
    "        total_time = total_time + fin - sta\n",
    "    if(j % 2 == 0):\n",
    "        #loss = np.sqrt(np.sum(np.square(X - np.resize(reord,(n,n)) * np.matmul(R,C.T)))/len(nonzero))\n",
    "        loss = np.sqrt(np.sum(np.square(X - np.multiply(reord, np.matmul(R,C.T)))) / elements)\n",
    "        print('Iter : ',j,' Loss : ', loss)\n",
    "        loss_iter_3.append(loss)\n",
    "        time_iter_3.append(total_time)\n",
    "p.terminate()    \n",
    "print(\"Total Time taken : \",total_time)\n",
    "\n",
    "total_iter_3 = len(final_order)\n",
    "print(\"Total updates per iter : \",total_iter_3)"
   ]
  },
  {
   "cell_type": "markdown",
   "metadata": {},
   "source": [
    "# Comparative Results"
   ]
  },
  {
   "cell_type": "code",
   "execution_count": 51,
   "metadata": {},
   "outputs": [],
   "source": [
    "import matplotlib.pyplot as plt"
   ]
  },
  {
   "cell_type": "code",
   "execution_count": 52,
   "metadata": {},
   "outputs": [
    {
     "data": {
      "text/plain": [
       "Text(0.5, 1.0, 'A plot of loss vs number of epochs for 3 different methods')"
      ]
     },
     "execution_count": 52,
     "metadata": {},
     "output_type": "execute_result"
    },
    {
     "data": {
      "image/png": "[encoded data removed]",
      "text/plain": [
       "<Figure size 432x288 with 1 Axes>"
      ]
     },
     "metadata": {
      "needs_background": "light"
     },
     "output_type": "display_data"
    }
   ],
   "source": [
    "y = 6\n",
    "x = np.arange(y) * 2\n",
    "plt.plot(x,loss_iter_1[:y],label='Normal Hogwild')\n",
    "plt.plot(x,loss_iter_2[:y],label='Proposed Method')\n",
    "plt.plot(x,loss_iter_3[:y],label='SSGD')\n",
    "plt.legend()\n",
    "plt.ylabel('Loss value')\n",
    "plt.xlabel('Number of epochs')\n",
    "plt.title('A plot of loss vs number of epochs for 3 different methods')"
   ]
  },
  {
   "cell_type": "code",
   "execution_count": 56,
   "metadata": {},
   "outputs": [
    {
     "data": {
      "text/plain": [
       "Text(0, 0.5, 'Number of parallel computations in 10 epochs')"
      ]
     },
     "execution_count": 56,
     "metadata": {},
     "output_type": "execute_result"
    },
    {
     "data": {
      "image/png": "[encoded data removed]",
      "text/plain": [
       "<Figure size 432x288 with 1 Axes>"
      ]
     },
     "metadata": {
      "needs_background": "light"
     },
     "output_type": "display_data"
    }
   ],
   "source": [
    "plt.bar(['Normal Hogwild','Proposed Method','SSGD'],[total_iter_1 / t,total_iter_2 / t,total_iter_3 / t])\n",
    "plt.ylabel('Number of parallel computations in 10 epochs')"
   ]
  },
  {
   "cell_type": "code",
   "execution_count": 54,
   "metadata": {},
   "outputs": [
    {
     "data": {
      "text/plain": [
       "Text(0.5, 1.0, 'A plot of loss vs number of pool iterations for 3 different methods')"
      ]
     },
     "execution_count": 54,
     "metadata": {},
     "output_type": "execute_result"
    },
    {
     "data": {
      "image/png": "[encoded data removed]",
      "text/plain": [
       "<Figure size 432x288 with 1 Axes>"
      ]
     },
     "metadata": {
      "needs_background": "light"
     },
     "output_type": "display_data"
    }
   ],
   "source": [
    "y = 6\n",
    "x = np.arange(y) * 2\n",
    "plt.plot(x*total_iter_1 / t,loss_iter_1[:y],label='Normal Hogwild')\n",
    "plt.plot(x*total_iter_2 / t,loss_iter_2[:y],label='Proposed Method')\n",
    "plt.plot(x*total_iter_3 / t,loss_iter_3[:y],label='SSGD')\n",
    "plt.legend()\n",
    "plt.ylabel('Loss value')\n",
    "plt.xlabel('Number of pool iterations')\n",
    "plt.title('A plot of loss vs number of pool iterations for 3 different methods')"
   ]
  },
  {
   "cell_type": "code",
   "execution_count": 55,
   "metadata": {},
   "outputs": [
    {
     "data": {
      "text/plain": [
       "Text(0.5, 1.0, 'A plot of loss vs time elapsed for 3 different methods')"
      ]
     },
     "execution_count": 55,
     "metadata": {},
     "output_type": "execute_result"
    },
    {
     "data": {
      "image/png": "[encoded data removed]",
      "text/plain": [
       "<Figure size 432x288 with 1 Axes>"
      ]
     },
     "metadata": {
      "needs_background": "light"
     },
     "output_type": "display_data"
    }
   ],
   "source": [
    "y = 6\n",
    "plt.plot(time_iter_1[:y],loss_iter_1[:y],label='Normal Hogwild')\n",
    "plt.plot(time_iter_2[:y],loss_iter_2[:y],label='Proposed Method')\n",
    "plt.plot(time_iter_3[:y],loss_iter_3[:y],label='SSGD')\n",
    "plt.legend()\n",
    "plt.ylabel('Loss Value')\n",
    "plt.xlabel('Time in seconds')\n",
    "plt.title('A plot of loss vs time elapsed for 3 different methods')"
   ]
  },
  {
   "cell_type": "code",
   "execution_count": null,
   "metadata": {},
   "outputs": [],
   "source": []
  }
 ],
 "metadata": {
  "kernelspec": {
   "display_name": "Python 3",
   "language": "python",
   "name": "python3"
  },
  "language_info": {
   "codemirror_mode": {
    "name": "ipython",
    "version": 3
   },
   "file_extension": ".py",
   "mimetype": "text/x-python",
   "name": "python",
   "nbconvert_exporter": "python",
   "pygments_lexer": "ipython3",
   "version": "3.7.6"
  }
 },
 "nbformat": 4,
 "nbformat_minor": 4
}
